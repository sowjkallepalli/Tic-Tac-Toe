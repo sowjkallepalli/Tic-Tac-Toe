{
  "cells": [
    {
      "attachments": {},
      "cell_type": "markdown",
      "metadata": {
        "id": "IBxadlwOi5IM"
      },
      "source": [
        "### Tic-Tac-Toe\n",
        "Lakshmi sowjanya kallepalli\n"
      ]
    },
    {
      "cell_type": "markdown",
      "metadata": {
        "id": "F4E1vhd03738"
      },
      "source": []
    },
    {
      "cell_type": "code",
      "execution_count": 105,
      "metadata": {
        "id": "wV8tGVxp37f7"
      },
      "outputs": [],
      "source": [
        "# Finite number of states, so we can use Minimax algorithm. \n",
        "# It is an decision making algorithm build of Maximizer and minimizer\n",
        "# Maximizing our profits while opponent minimize their loses\n",
        "\n",
        "# Tic-Tac-Toe:\n",
        "# Find best move to make : using utility function in all possible moves\n",
        "# Utility function when reached terminal state either someone wins or draw\n",
        "# (Remaining squares in the board + 1) * +1/-1 (depends on the winning side)\n",
        "\n",
        "# After we get all the possible moves -> We go back up to find the most optimal path to take.\n",
        "# Bottom we have maximizer function, immediate above min.... at the end maximizer\n",
        "\n",
        "# Agent X is making first move here and the first move should be random."
      ]
    },
    {
      "cell_type": "code",
      "execution_count": 106,
      "metadata": {
        "id": "jILwrvtFNjSE"
      },
      "outputs": [],
      "source": [
        "#Necessary libraries\n",
        "import random\n",
        "import math"
      ]
    },
    {
      "cell_type": "code",
      "execution_count": 114,
      "metadata": {
        "id": "F9Z1WAB9-n-j"
      },
      "outputs": [],
      "source": [
        "# Printing state of the board \n",
        "def Board(board):\n",
        "    print(\"\\n\\n\");\n",
        "    for i in range (0,9):\n",
        "        if ((i>0) and (i%3) == 0):\n",
        "            print(\"\\n\");\n",
        "        if (board[i] == 0):\n",
        "            print(\"* \",end = \" \");\n",
        "        if (board[i] == 1):\n",
        "            print(\"O \",end = \" \");\n",
        "        if (board[i] == -1):    \n",
        "            print(\"X \",end = \" \");\n",
        "    print(\"\\n\\n\");"
      ]
    },
    {
      "cell_type": "code",
      "execution_count": 115,
      "metadata": {
        "collapsed": true,
        "id": "C1bys2gFi5IR"
      },
      "outputs": [],
      "source": [
        "# This function is used to calculate the best move using Minmax algorithm.\n",
        "# Agent_x move\n",
        "def TurnX(board):\n",
        "    first = 0\n",
        "    for i in board:\n",
        "        if(i !=0):\n",
        "            first = 1\n",
        "    if (first == 0):\n",
        "        position = random.randint(0,9);\n",
        "    else:\n",
        "      position = 1\n",
        "      value = math.inf\n",
        "      for i in range(0,9):\n",
        "          if(board[i]==0):\n",
        "              board[i]=-1\n",
        "              score = minimax(board, 1)\n",
        "              board[i] = 0\n",
        "              if(score < value):\n",
        "                  value = score;\n",
        "                  position = i; \n",
        "    board[position] = -1;\n",
        "# Agent_O move\n",
        "def TurnO(board):\n",
        "    position = -1;\n",
        "    value = -math.inf;\n",
        "    for i in range(0,9):\n",
        "        if(board[i] == 0):\n",
        "            board[i] = 1;\n",
        "            score = -minimax(board, -1);\n",
        "            board[i] = 0;\n",
        "            if(score > value):\n",
        "                value = score;\n",
        "                position = i;\n",
        "    board[position] = 1;"
      ]
    },
    {
      "cell_type": "code",
      "execution_count": 116,
      "metadata": {
        "id": "kPtLTlU0L4sk"
      },
      "outputs": [],
      "source": [
        "#Implementing MinMax Algorithm \n",
        "def minimax(board, player):\n",
        "    x = board_check(board);\n",
        "    if(x != 0):\n",
        "        return (x * player);\n",
        "    position = -1;\n",
        "    value = -math.inf\n",
        "    for i in range(0,9):\n",
        "        if(board[i] == 0):\n",
        "            board[i] = player;\n",
        "            score = -minimax(board, (player * -1));\n",
        "            if(score > value):\n",
        "                value = score;\n",
        "                position = i;\n",
        "            board[i] = 0;\n",
        "    if(position == -1):\n",
        "        return 0;\n",
        "    return value;"
      ]
    },
    {
      "cell_type": "code",
      "execution_count": 117,
      "metadata": {
        "collapsed": true,
        "id": "4RWKwgoli5IQ"
      },
      "outputs": [],
      "source": [
        "# This function is used to analyze a game \n",
        "# checking in rows, columns and diagonals\n",
        "def board_check(board):\n",
        "    goal = [[0,1,2],[3,4,5],[6,7,8],[0,3,6],[1,4,7],[2,5,8],[0,4,8],[2,4,6]];\n",
        "    for i in range(0,8):\n",
        "        if(board[goal[i][0]] != 0 and board[goal[i][0]] == board[goal[i][1]] and board[goal[i][0]] == board[goal[i][2]]):\n",
        "            return board[goal[i][2]];\n",
        "    return 0;"
      ]
    },
    {
      "cell_type": "code",
      "execution_count": 118,
      "metadata": {
        "collapsed": true,
        "id": "xaF07khYi5IR"
      },
      "outputs": [],
      "source": [
        "def main():\n",
        "    # Initial board\n",
        "    board = [0,0,0,0,0,0,0,0,0];\n",
        "    print(\"     Agent_O   Vs  Agent_X     \");\n",
        "    for i in range (0,9):\n",
        "        if(board_check(board) != 0):\n",
        "            break;\n",
        "        if( (i+1) %2 == 0):\n",
        "            Board(board);\n",
        "            TurnO(board);\n",
        "        else:\n",
        "            Board(board);\n",
        "            TurnX(board);    \n",
        "    utility = board_check(board);\n",
        "    if(utility == 0):\n",
        "         Board(board);\n",
        "         print(\"Draw Game!\")\n",
        "    if(utility == -1):\n",
        "         Board(board);\n",
        "         print(\"Agent X Wins & Agent O Lost the Game\")\n",
        "    if(utility == 1):\n",
        "         Board(board);\n",
        "         print(\"Agent X Lost & Agent O Wins the Game\")"
      ]
    },
    {
      "cell_type": "code",
      "execution_count": 119,
      "metadata": {
        "collapsed": true,
        "id": "qmTdHY0Li5IS"
      },
      "outputs": [],
      "source": [
        "def start():\n",
        "  main()"
      ]
    },
    {
      "attachments": {},
      "cell_type": "markdown",
      "metadata": {
        "id": "gWBm19uhi5IS"
      },
      "source": [
        "Function calling\n",
        "# ==============================="
      ]
    },
    {
      "cell_type": "code",
      "execution_count": 120,
      "metadata": {
        "colab": {
          "base_uri": "https://localhost:8080/"
        },
        "collapsed": true,
        "id": "jjm9X3hAi5IT",
        "outputId": "4f7accc9-e85a-42d8-9744-b89f06079446"
      },
      "outputs": [
        {
          "name": "stdout",
          "output_type": "stream",
          "text": [
            "     Agent_O   Vs  Agent_X     \n",
            "\n",
            "\n",
            "\n",
            "*  *  *  \n",
            "\n",
            "*  *  *  \n",
            "\n",
            "*  *  *  \n",
            "\n",
            "\n",
            "\n",
            "\n",
            "\n",
            "*  *  *  \n",
            "\n",
            "*  *  X  \n",
            "\n",
            "*  *  *  \n",
            "\n",
            "\n",
            "\n",
            "\n",
            "\n",
            "*  *  O  \n",
            "\n",
            "*  *  X  \n",
            "\n",
            "*  *  *  \n",
            "\n",
            "\n",
            "\n",
            "\n",
            "\n",
            "X  *  O  \n",
            "\n",
            "*  *  X  \n",
            "\n",
            "*  *  *  \n",
            "\n",
            "\n",
            "\n",
            "\n",
            "\n",
            "X  *  O  \n",
            "\n",
            "O  *  X  \n",
            "\n",
            "*  *  *  \n",
            "\n",
            "\n",
            "\n",
            "\n",
            "\n",
            "X  X  O  \n",
            "\n",
            "O  *  X  \n",
            "\n",
            "*  *  *  \n",
            "\n",
            "\n",
            "\n",
            "\n",
            "\n",
            "X  X  O  \n",
            "\n",
            "O  O  X  \n",
            "\n",
            "*  *  *  \n",
            "\n",
            "\n",
            "\n",
            "\n",
            "\n",
            "X  X  O  \n",
            "\n",
            "O  O  X  \n",
            "\n",
            "X  *  *  \n",
            "\n",
            "\n",
            "\n",
            "\n",
            "\n",
            "X  X  O  \n",
            "\n",
            "O  O  X  \n",
            "\n",
            "X  O  *  \n",
            "\n",
            "\n",
            "\n",
            "\n",
            "\n",
            "X  X  O  \n",
            "\n",
            "O  O  X  \n",
            "\n",
            "X  O  X  \n",
            "\n",
            "\n",
            "Draw Game!\n"
          ]
        }
      ],
      "source": [
        "#you need to implement print_result function to print out the result according to the required format\n",
        "start()"
      ]
    },
    {
      "cell_type": "raw",
      "metadata": {
        "id": "fps6kRyPi5IT"
      },
      "source": [
        "The moves and the results should be printed out as follows. Result should be one of the following 3: “X Wins!”, “O Wins!”, or “Draw Game”.\n",
        "\n",
        "***\n",
        "*X*\n",
        "***\n",
        "\n",
        "*O*\n",
        "*X*\n",
        "***\n",
        "\n",
        "*O*\n",
        "*X*\n",
        "**X\n",
        "\n",
        "*OO\n",
        "*X*\n",
        "**X\n",
        "\n",
        "XOO\n",
        "*X*\n",
        "**X\n",
        "\n",
        "Result: X Wins!\n"
      ]
    }
  ],
  "metadata": {
    "anaconda-cloud": {},
    "colab": {
      "provenance": []
    },
    "kernelspec": {
      "display_name": "Python 3",
      "language": "python",
      "name": "python3"
    },
    "language_info": {
      "codemirror_mode": {
        "name": "ipython",
        "version": 3
      },
      "file_extension": ".py",
      "mimetype": "text/x-python",
      "name": "python",
      "nbconvert_exporter": "python",
      "pygments_lexer": "ipython3",
      "version": "3.6.3"
    }
  },
  "nbformat": 4,
  "nbformat_minor": 0
}
